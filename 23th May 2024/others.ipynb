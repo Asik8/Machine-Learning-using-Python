{
 "cells": [
  {
   "cell_type": "code",
   "execution_count": null,
   "metadata": {},
   "outputs": [],
   "source": [
    "# Type Casting 2\n",
    "a = int(input())\n",
    "b= str(a)\n",
    "print(type(b))"
   ]
  },
  {
   "cell_type": "markdown",
   "metadata": {},
   "source": [
    "7. Python Strings"
   ]
  },
  {
   "cell_type": "code",
   "execution_count": 1,
   "metadata": {},
   "outputs": [
    {
     "name": "stdout",
     "output_type": "stream",
     "text": [
      "33\n"
     ]
    }
   ],
   "source": [
    "a= input()\n",
    "print(len(a))"
   ]
  },
  {
   "cell_type": "markdown",
   "metadata": {},
   "source": [
    "8. Python Booleans"
   ]
  },
  {
   "cell_type": "code",
   "execution_count": 3,
   "metadata": {},
   "outputs": [
    {
     "name": "stdout",
     "output_type": "stream",
     "text": [
      "Odd\n"
     ]
    }
   ],
   "source": [
    "# 1:\n",
    "f= False\n",
    "a= int(input())\n",
    "if a%2==0:\n",
    "    f= True\n",
    "\n",
    "if(f):\n",
    "    print(\"Even\")\n",
    "else:\n",
    "    print(\"Odd\")"
   ]
  },
  {
   "cell_type": "code",
   "execution_count": 11,
   "metadata": {},
   "outputs": [
    {
     "name": "stdout",
     "output_type": "stream",
     "text": [
      "All Alphabate\n"
     ]
    }
   ],
   "source": [
    "# 2\n",
    "f=False\n",
    "a= input()\n",
    "for c in a:\n",
    "    if c<'A' or c>'Z':\n",
    "        f= True\n",
    "        break\n",
    "if(f):\n",
    "    print(\"False\")\n",
    "else:\n",
    "    print(\"True\")"
   ]
  },
  {
   "cell_type": "markdown",
   "metadata": {},
   "source": [
    "9. Python Operators"
   ]
  },
  {
   "cell_type": "code",
   "execution_count": 12,
   "metadata": {},
   "outputs": [
    {
     "name": "stdout",
     "output_type": "stream",
     "text": [
      "50\n"
     ]
    }
   ],
   "source": [
    "# 1\n",
    "a = int(input())\n",
    "b = int(input())\n",
    "\n",
    "print(a+b)"
   ]
  },
  {
   "cell_type": "code",
   "execution_count": null,
   "metadata": {},
   "outputs": [],
   "source": [
    "# 2\n",
    "a = int(input())\n",
    "b = int(input())\n",
    "if a>=b:\n",
    "    print(a)\n",
    "else:\n",
    "    print(b)"
   ]
  },
  {
   "cell_type": "markdown",
   "metadata": {},
   "source": [
    "10. Python Lists"
   ]
  },
  {
   "cell_type": "code",
   "execution_count": 13,
   "metadata": {},
   "outputs": [
    {
     "name": "stdout",
     "output_type": "stream",
     "text": [
      "Apple\n",
      "banana\n",
      "Cherry\n",
      "Dragoon\n"
     ]
    }
   ],
   "source": [
    "# 1\n",
    "l = [\"Apple\",\"banana\",\"Cherry\",\"Dragoon\"]\n",
    "for f in l:\n",
    "    print(f)"
   ]
  },
  {
   "cell_type": "code",
   "execution_count": 14,
   "metadata": {},
   "outputs": [
    {
     "name": "stdout",
     "output_type": "stream",
     "text": [
      "274938\n"
     ]
    }
   ],
   "source": [
    "# 2\n",
    "l = [1,2,56,3,5,2,4,5,6,8,8,9,4443,2,24,56,7,18383,8,9,274938]\n",
    "print(max(l))"
   ]
  },
  {
   "cell_type": "markdown",
   "metadata": {},
   "source": [
    "11. Python Tuples"
   ]
  },
  {
   "cell_type": "code",
   "execution_count": 15,
   "metadata": {},
   "outputs": [
    {
     "name": "stdout",
     "output_type": "stream",
     "text": [
      "Kutub\n",
      "Ayesha\n",
      "Asik\n",
      "Abid\n",
      "Atika\n",
      "Akib\n"
     ]
    }
   ],
   "source": [
    "# 1\n",
    "t = (\"Kutub\",\"Ayesha\",\"Asik\",\"Abid\",\"Atika\",\"Akib\")\n",
    "for f in t:\n",
    "    print(f)"
   ]
  },
  {
   "cell_type": "code",
   "execution_count": 16,
   "metadata": {},
   "outputs": [
    {
     "name": "stdout",
     "output_type": "stream",
     "text": [
      "6\n"
     ]
    }
   ],
   "source": [
    "# 2\n",
    "t = (\"Kutub\",\"Ayesha\",\"Asik\",\"Abid\",\"Atika\",\"Akib\")\n",
    "print(len(t))"
   ]
  },
  {
   "cell_type": "markdown",
   "metadata": {},
   "source": [
    "12. Python Sets"
   ]
  },
  {
   "cell_type": "code",
   "execution_count": 18,
   "metadata": {},
   "outputs": [
    {
     "name": "stdout",
     "output_type": "stream",
     "text": [
      "{'Yellow', 'Color', 'Gray', 'Blue', 'Amber'}\n"
     ]
    }
   ],
   "source": [
    "# 1\n",
    "s = {\"Amber\",\"Blue\",\"Color\"}\n",
    "s.add(\"Yellow\")\n",
    "s.add(\"Gray\")\n",
    "print(s)"
   ]
  },
  {
   "cell_type": "code",
   "execution_count": 21,
   "metadata": {},
   "outputs": [
    {
     "name": "stdout",
     "output_type": "stream",
     "text": [
      "Found\n"
     ]
    }
   ],
   "source": [
    "# 2\n",
    "s = {\"Amber\",\"Blue\",\"Color\"}\n",
    "s.add(\"Yellow\")\n",
    "s.add(\"Gray\")\n",
    "find = input()\n",
    "if find in s:\n",
    "    print(\"Found\")\n",
    "else :\n",
    "    print(\"Not Found\")"
   ]
  },
  {
   "cell_type": "markdown",
   "metadata": {},
   "source": [
    "13. Python Dictionaries"
   ]
  },
  {
   "cell_type": "code",
   "execution_count": 2,
   "metadata": {},
   "outputs": [
    {
     "name": "stdout",
     "output_type": "stream",
     "text": [
      "Maruf 23\n",
      "Siam 22\n",
      "Sayed 23\n",
      "Asik 24\n"
     ]
    }
   ],
   "source": [
    "#1\n",
    "d= {\"Maruf\":23,\"Siam\":22,\"Sayed\":23,\"Asik\":24}\n",
    "for i in d:\n",
    "    print(i,d[i])"
   ]
  },
  {
   "cell_type": "code",
   "execution_count": 4,
   "metadata": {},
   "outputs": [
    {
     "name": "stdout",
     "output_type": "stream",
     "text": [
      "Maruf 23\n",
      "Siam 22\n",
      "Sayed 23\n",
      "Asik 24\n",
      "Alif 22\n"
     ]
    }
   ],
   "source": [
    "# 2\n",
    "d= {\"Maruf\":23,\"Siam\":22,\"Sayed\":23,\"Asik\":24}\n",
    "k = input()\n",
    "v= int(input())\n",
    "d[k] = v\n",
    "for i in d:\n",
    "    print(i,d[i])"
   ]
  },
  {
   "cell_type": "markdown",
   "metadata": {},
   "source": [
    "14. Python If...Else"
   ]
  },
  {
   "cell_type": "code",
   "execution_count": null,
   "metadata": {},
   "outputs": [],
   "source": [
    "#1\n",
    "a= int(input())\n",
    "\n",
    "if a>0:\n",
    "    print(\"Positive Number\")\n",
    "elif a<0:\n",
    "    print(\"Negative Number\")\n",
    "else:\n",
    "    print(\"Zero\")"
   ]
  },
  {
   "cell_type": "code",
   "execution_count": null,
   "metadata": {},
   "outputs": [],
   "source": [
    "#2\n",
    "year = int(input(\"Enter a year: \"))\n",
    "\n",
    "if (year % 4 == 0 and year % 100 != 0) or (year % 400 == 0):\n",
    "    print(year, \"is a leap year.\")\n",
    "else:\n",
    "    print(year, \"is not a leap year.\")\n"
   ]
  }
 ],
 "metadata": {
  "kernelspec": {
   "display_name": "Python 3",
   "language": "python",
   "name": "python3"
  },
  "language_info": {
   "codemirror_mode": {
    "name": "ipython",
    "version": 3
   },
   "file_extension": ".py",
   "mimetype": "text/x-python",
   "name": "python",
   "nbconvert_exporter": "python",
   "pygments_lexer": "ipython3",
   "version": "3.12.1"
  }
 },
 "nbformat": 4,
 "nbformat_minor": 2
}
